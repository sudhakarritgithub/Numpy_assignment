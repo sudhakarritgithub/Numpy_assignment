{
 "cells": [
  {
   "cell_type": "markdown",
   "id": "1b44d56d-cb7a-4c11-b41a-e900cb64c4f4",
   "metadata": {},
   "source": [
    "                                                  NUMPY ASSIGNMENT"
   ]
  },
  {
   "cell_type": "raw",
   "id": "1893cbde-65ed-424c-be7c-9e6399cbef0b",
   "metadata": {},
   "source": []
  },
  {
   "cell_type": "raw",
   "id": "3699b504-7c2f-401b-aa72-978a45f90ad4",
   "metadata": {},
   "source": []
  },
  {
   "cell_type": "raw",
   "id": "4c3b822c-8a78-42c8-8094-c274ab7db007",
   "metadata": {},
   "source": [
    "Ques.1 Consider the below code to answer further questions:\n",
    "       import numpy as np\n",
    "       list_ = [ ‘1’ , ’2’ , ‘3’ , ‘4’ , ‘5’ ]\n",
    "       array_list = np.array(object = list_)\n",
    "Is there any difference in the data type of variables list_ and array_list? If there is then write a code to print the data types of both the variables."
   ]
  },
  {
   "cell_type": "code",
   "execution_count": 2,
   "id": "9706951c-5972-4347-afc4-1cec2dfb532f",
   "metadata": {},
   "outputs": [
    {
     "name": "stdout",
     "output_type": "stream",
     "text": [
      "Data type of list_: <class 'list'>\n",
      "Data type of array_list: <class 'numpy.ndarray'>\n"
     ]
    }
   ],
   "source": [
    "import numpy as np\n",
    "\n",
    "list_ = ['1', '2', '3', '4', '5']\n",
    "array_list = np.array(object=list_)\n",
    "\n",
    "print(\"Data type of list_:\", type(list_))\n",
    "print(\"Data type of array_list:\", type(array_list))\n"
   ]
  },
  {
   "cell_type": "raw",
   "id": "d7e38df3-fb66-433a-926e-190cee1ec90a",
   "metadata": {},
   "source": []
  },
  {
   "cell_type": "raw",
   "id": "3a255402-bba3-49a3-ac0e-36e36424b64e",
   "metadata": {},
   "source": [
    "Ques.2 Write a code to print the data type of each and every element of both the variables list_ and array_list.\n",
    "       Consider the below code to answer further questions:\n",
    "       import numpy as np\n",
    "       list_ = [ ‘1’ , ’2’ , ‘3’ , ‘4’ , ‘5’ ]\n",
    "       array_list = np.array(object = list_)"
   ]
  },
  {
   "cell_type": "code",
   "execution_count": 3,
   "id": "a810b6a5-a24b-4111-8c8a-1b810978b8ce",
   "metadata": {},
   "outputs": [
    {
     "name": "stdout",
     "output_type": "stream",
     "text": [
      "Data types of elements in list_:\n",
      "<class 'str'>\n",
      "<class 'str'>\n",
      "<class 'str'>\n",
      "<class 'str'>\n",
      "<class 'str'>\n",
      "\n",
      "Data types of elements in array_list:\n",
      "<class 'numpy.str_'>\n",
      "<class 'numpy.str_'>\n",
      "<class 'numpy.str_'>\n",
      "<class 'numpy.str_'>\n",
      "<class 'numpy.str_'>\n"
     ]
    }
   ],
   "source": [
    "import numpy as np\n",
    "\n",
    "list_ = ['1', '2', '3', '4', '5']\n",
    "array_list = np.array(object=list_)\n",
    "\n",
    "# Print data types of elements in list_\n",
    "print(\"Data types of elements in list_:\")\n",
    "for element in list_:\n",
    "    print(type(element))\n",
    "\n",
    "# Print data types of elements in array_list\n",
    "print(\"\\nData types of elements in array_list:\")\n",
    "for element in array_list:\n",
    "    print(type(element))\n"
   ]
  },
  {
   "cell_type": "raw",
   "id": "42d7db21-0522-4524-b233-d62840660f7e",
   "metadata": {},
   "source": []
  },
  {
   "cell_type": "raw",
   "id": "c6ebfcf8-773b-4763-8d13-c9e7de5d9d56",
   "metadata": {},
   "source": [
    "Ques.3  Considering the following changes in the variable, array_list:\n",
    "\n",
    "array_list = np.array(object = list_, dtype = int)\n",
    "\n",
    "Will there be any difference in the data type of the elements present in both the variables, list_ and array_list? If so then print the data types of each and every element present in both the variables, list_ and arra_list.\n",
    "\n",
    "Consider the below code to answer further questions:\n",
    "\n",
    "import numpy as np\n",
    "\n",
    "num_list = [ [ 1 , 2 , 3 ] , [ 4 , 5 , 6 ] ]\n",
    "\n",
    "num_array = np.array(object = num_list)"
   ]
  },
  {
   "cell_type": "code",
   "execution_count": 5,
   "id": "55ec2eae-5e45-4a99-be00-97e5e80ce0bd",
   "metadata": {},
   "outputs": [
    {
     "name": "stdout",
     "output_type": "stream",
     "text": [
      "Data types of elements in list_:\n",
      "<class 'str'>\n",
      "<class 'str'>\n",
      "<class 'str'>\n",
      "<class 'str'>\n",
      "<class 'str'>\n",
      "\n",
      "Data types of elements in array_list:\n",
      "<class 'numpy.int64'>\n",
      "<class 'numpy.int64'>\n",
      "<class 'numpy.int64'>\n",
      "<class 'numpy.int64'>\n",
      "<class 'numpy.int64'>\n"
     ]
    }
   ],
   "source": [
    "import numpy as np\n",
    "\n",
    "list_ = ['1', '2', '3', '4', '5']\n",
    "array_list = np.array(object=list_, dtype=int)\n",
    "\n",
    "# Print data types of elements in list_\n",
    "print(\"Data types of elements in list_:\")\n",
    "for element in list_:\n",
    "    print(type(element))\n",
    "\n",
    "# Print data types of elements in array_list\n",
    "print(\"\\nData types of elements in array_list:\")\n",
    "for element in array_list:\n",
    "    print(type(element))\n",
    "\n"
   ]
  },
  {
   "cell_type": "raw",
   "id": "bd056a07-d5fb-43a0-9b69-23813f4f8885",
   "metadata": {},
   "source": []
  },
  {
   "cell_type": "raw",
   "id": "8af51c0b-66e7-4dc0-b1ec-438762def231",
   "metadata": {},
   "source": [
    "Ques.4  Write a code to find the following characteristics of variable, num_array:\n",
    "        (i) shape\n",
    "        (ii) size"
   ]
  },
  {
   "cell_type": "code",
   "execution_count": 6,
   "id": "f2045e17-4235-44a3-97c7-0da5bdfde9e5",
   "metadata": {},
   "outputs": [
    {
     "name": "stdout",
     "output_type": "stream",
     "text": [
      "Shape of num_array: (2, 3)\n",
      "Size of num_array: 6\n"
     ]
    }
   ],
   "source": [
    "import numpy as np\n",
    "\n",
    "num_list = [[1, 2, 3], [4, 5, 6]]\n",
    "num_array = np.array(object=num_list)\n",
    "\n",
    "# (i) Shape\n",
    "shape = num_array.shape\n",
    "print(\"Shape of num_array:\", shape)\n",
    "\n",
    "# (ii) Size\n",
    "size = num_array.size\n",
    "print(\"Size of num_array:\", size)\n"
   ]
  },
  {
   "cell_type": "raw",
   "id": "7c4dc3b4-620a-45f6-b074-fd0cdcc92a64",
   "metadata": {},
   "source": []
  },
  {
   "cell_type": "raw",
   "id": "336e9f71-03b6-4f5e-93bb-d662968e1e41",
   "metadata": {},
   "source": [
    "Ques.5  Write a code to create numpy array of 3*3 matrix containing zeros only, using a numpy array creation function.\n",
    "        [Hint: The size of the array will be 9 and the shape will be (3,3).]"
   ]
  },
  {
   "cell_type": "code",
   "execution_count": 7,
   "id": "6681060a-7514-4e02-813f-5423983aa701",
   "metadata": {},
   "outputs": [
    {
     "name": "stdout",
     "output_type": "stream",
     "text": [
      "Array of zeros:\n",
      "[[0. 0. 0.]\n",
      " [0. 0. 0.]\n",
      " [0. 0. 0.]]\n"
     ]
    }
   ],
   "source": [
    "import numpy as np\n",
    "\n",
    "# Create a 3x3 matrix containing zeros\n",
    "zeros_array = np.zeros((3, 3))\n",
    "\n",
    "print(\"Array of zeros:\")\n",
    "print(zeros_array)\n"
   ]
  },
  {
   "cell_type": "raw",
   "id": "b244748a-746a-49f2-9c52-c7fbeaefe428",
   "metadata": {},
   "source": []
  },
  {
   "cell_type": "raw",
   "id": "5b150c40-3e37-462b-bd6d-2af2bd34d579",
   "metadata": {},
   "source": [
    "Ques.6  Create an identity matrix of shape (5,5) using numpy functions?\n",
    "        [Hint: An identity matrix is a matrix containing 1 diagonally and other elements will be 0.]"
   ]
  },
  {
   "cell_type": "code",
   "execution_count": 8,
   "id": "b8be4d4f-975f-403c-be6e-ab316e4aac1c",
   "metadata": {},
   "outputs": [
    {
     "name": "stdout",
     "output_type": "stream",
     "text": [
      "Identity matrix:\n",
      "[[1. 0. 0. 0. 0.]\n",
      " [0. 1. 0. 0. 0.]\n",
      " [0. 0. 1. 0. 0.]\n",
      " [0. 0. 0. 1. 0.]\n",
      " [0. 0. 0. 0. 1.]]\n"
     ]
    }
   ],
   "source": [
    "import numpy as np\n",
    "\n",
    "# Create a 5x5 identity matrix\n",
    "identity_matrix = np.identity(5)\n",
    "\n",
    "print(\"Identity matrix:\")\n",
    "print(identity_matrix)\n"
   ]
  },
  {
   "cell_type": "code",
   "execution_count": null,
   "id": "7c63dfb7-d4ed-4af2-bdb9-eecd30673572",
   "metadata": {},
   "outputs": [],
   "source": []
  }
 ],
 "metadata": {
  "kernelspec": {
   "display_name": "Python 3 (ipykernel)",
   "language": "python",
   "name": "python3"
  },
  "language_info": {
   "codemirror_mode": {
    "name": "ipython",
    "version": 3
   },
   "file_extension": ".py",
   "mimetype": "text/x-python",
   "name": "python",
   "nbconvert_exporter": "python",
   "pygments_lexer": "ipython3",
   "version": "3.10.8"
  }
 },
 "nbformat": 4,
 "nbformat_minor": 5
}
